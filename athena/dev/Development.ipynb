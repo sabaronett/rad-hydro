{
 "cells": [
  {
   "cell_type": "markdown",
   "metadata": {},
   "source": [
    "# Radiation Transport Development\n",
    "| Author  | Stanley A. Baronett  |\n",
    "|---------|----------------------|\n",
    "| Created |  09/29/2023          |\n",
    "| Updated |  10/06/2023          |"
   ]
  },
  {
   "cell_type": "markdown",
   "metadata": {},
   "source": [
    "## [Quantities](https://github.com/PrincetonUniversity/athena/wiki/Non-relativistic-Radiation-Transport#units)\n",
    "\n",
    "- Code Units\n",
    "  - Temperature $T_0$\n",
    "  - Density $\\rho_0$\n",
    "  - Length $L_0$\n",
    "  - Time $t_0 = L_0 / v_0 = \\mathbb{C}L_0 / c$\n",
    "- Ideal Gas\n",
    "  - Constant mean molecular weight $\\mu$\n",
    "  - Velocity $v_0 = \\sqrt{k_\\mathrm{B} T_0 / (\\mu m_\\mathrm{p})}$\n",
    "  - Pressure $P_0 \\equiv k_\\mathrm{B}\\rho_0 T_0 / (\\mu m_\\mathrm{p})$\n",
    "  - Internal energy $E_\\mathrm{g} = P/(\\gamma_\\mathrm{g} - 1)$ for adiabatic index $\\gamma_\\mathrm{g} \\neq 1$\n",
    "  - Temperature $T = P/(R_\\mathrm{ideal}\\rho) = E_\\mathrm{g}(\\gamma_\\mathrm{g} - 1)/(R_\\mathrm{ideal}\\rho)$\n",
    "- Radiation\n",
    "  - Specific intensity $I\\,[a_\\mathrm{r}T_0^4]$\n",
    "  - Energy density $E_\\mathrm{r} = \\int I\\mathrm{d}\\Omega$ (taking $4\\pi = 1$)\n",
    "  - Flux $\\mathbf{F}_\\mathrm{r} = \\int\\mathbf{n}I\\mathrm{d}\\Omega$ (units of $ca_\\mathrm{r}T_0^4$)\n",
    "- Dimensionless\n",
    "  - $\\mathbb{C} \\equiv \\mathcal{C} \\equiv c/v_0$\n",
    "  - $\\mathbb{P} \\equiv \\mathcal{P} \\equiv a_\\mathrm{r}T_0^4 / P_0 = a_\\mathrm{r}T_0^4 / (\\rho_0 R_\\mathrm{ideal} T_0)$\n",
    "- Sums\n",
    "  - Total pressure (energy) $P_\\mathrm{g} + \\mathbb{P}P_\\mathrm{r}\\,[P_0]$\n",
    "  - Total momentum $\\rho v + F_\\mathrm{r}\\mathbb{P}/\\mathbb{C}\\,[\\rho_0 v_0]$\n"
   ]
  },
  {
   "cell_type": "markdown",
   "metadata": {},
   "source": [
    "## Stellar Surface"
   ]
  },
  {
   "cell_type": "markdown",
   "metadata": {},
   "source": [
    "### Total surface emission\n",
    "\n",
    "```\n",
    "nzeta       = 1                   # number of polar angles (0 to pi/2)\n",
    "npsi        = 2                   # number of azimuthal angles (0 to pi)\n",
    "```\n",
    "![Total surface emission](stellar_surface/nzeta1/tot_surf/figs/slice.png)"
   ]
  },
  {
   "cell_type": "markdown",
   "metadata": {},
   "source": [
    "### Isotropic emission only at $\\theta=\\pi/2$\n",
    "\n",
    "```\n",
    "nzeta       = 1                   # number of polar angles (0 to pi/2)\n",
    "npsi        = 2                   # number of azimuthal angles (0 to pi)\n",
    "```\n",
    "![Emission only at $\\theta=\\pi/2$](stellar_surface/nzeta1/theta0.5pi/figs/slice.png)"
   ]
  },
  {
   "cell_type": "markdown",
   "metadata": {},
   "source": [
    "### Most-radial emission only at $\\theta=\\pi/2$\n",
    "\n",
    "```\n",
    "nzeta       = 5                   # number of polar angles (0 to pi/2)\n",
    "npsi        = 2                   # number of azimuthal angles (0 to pi)\n",
    "```\n",
    "#### Single ray\n",
    "![Emission only at $\\theta=\\pi/2$](stellar_surface/nzeta5/theta0.5pi_radial/figs/slice.old.png)\n",
    "#### All most radial rays\n",
    "![Emission only at $\\theta=\\pi/2$](stellar_surface/nzeta5/theta0.5pi_radial/figs/slice.png)"
   ]
  },
  {
   "cell_type": "markdown",
   "metadata": {},
   "source": [
    "### Most-radial emission only at $\\theta=\\pi/2$\n",
    "\n",
    "```\n",
    "nzeta       = 6                   # number of polar angles (0 to pi/2)\n",
    "npsi        = 4                   # number of azimuthal angles (0 to pi)\n",
    "```\n",
    "#### Single ray\n",
    "![Emission only at $\\theta=\\pi/2$](stellar_surface/nzeta6-npsi4/theta0.5pi_radial/figs/slice.old.png)\n",
    "#### All most radial rays\n",
    "![Emission only at $\\theta=\\pi/2$](stellar_surface/nzeta6-npsi4/theta0.5pi_radial/figs/slice.png)"
   ]
  },
  {
   "cell_type": "markdown",
   "metadata": {},
   "source": [
    "## Stellar Flux"
   ]
  },
  {
   "cell_type": "markdown",
   "metadata": {},
   "source": [
    "### Equations\n",
    "\n",
    "\\begin{align*}\n",
    "  \\frac{P(r, \\theta)}{r} &= \\frac{P_0}{r_0}\\left(\\frac{r}{r_0}\\sin\\theta\\right)^{-1/2} \\\\\n",
    "  \\rho_\\mathrm{mid}(r, \\theta) &= \\rho_0\\left(\\frac{r}{r_0}\\sin\\theta\\right)^{-9/4}\\exp\\left(-\\frac{r}{r_0 r_c}\\sin\\theta\\right) \\\\\n",
    "  \\rho(r, \\theta) &= \\rho_\\mathrm{mid}(r,\\theta)\\exp\\left[\\frac{GM_0}{P(r,\\theta)}\\left(1 - \\frac{1}{\\sin\\theta}\\right)\\right] \\\\\n",
    "  \\mathrm{d}\\tau_* &= \\rho(r, \\theta)\\kappa_*\\mathrm{d}r \\\\\n",
    "  \\tau_*(\\theta) &= \\int_r \\mathrm{d}\\tau_* \\\\\n",
    "  F_*(r, \\theta) &= \\left(\\frac{R_*}{r}\\right)^2\\frac{1}{4}\\mathbb{CP}T_*^4\\left(1 - \\exp\\left[-\\tau_*(\\theta)\\right]\\right)\n",
    "\\end{align*}"
   ]
  },
  {
   "cell_type": "code",
   "execution_count": 2,
   "metadata": {},
   "outputs": [
    {
     "name": "stderr",
     "output_type": "stream",
     "text": [
      "/tmp/ipykernel_21173/129440411.py:84: RuntimeWarning: divide by zero encountered in log10\n",
      "  plt.pcolormesh(x1f, x2v, np.log10(F_star))\n"
     ]
    },
    {
     "data": {
      "text/plain": [
       "<matplotlib.colorbar.Colorbar at 0x7f35ff9b4cd0>"
      ]
     },
     "execution_count": 2,
     "metadata": {},
     "output_type": "execute_result"
    },
    {
     "data": {
      "image/png": "[encoded data removed]",
      "text/plain": [
       "<Figure size 640x480 with 2 Axes>"
      ]
     },
     "metadata": {},
     "output_type": "display_data"
    }
   ],
   "source": [
    "import numpy as np\n",
    "import matplotlib.pyplot as plt\n",
    "\n",
    "# stellar_flux.cpp\n",
    "# //---------------------------------------------------------------------------\n",
    "# //! computes density in spherical coordinates\n",
    "\n",
    "def DenProfileSph(r, theta, phi):\n",
    "  rad = r*np.sin(theta)\n",
    "  p_over_r = PoverR(r, theta)\n",
    "  denmid = rho0*np.power(rad/r0, dslope) #*np.exp(-r*np.sin(theta)/r0/r_c)\n",
    "  dentem = denmid*np.exp(gm0/p_over_r*(1./r - 1./rad))\n",
    "  den = dentem\n",
    "  return den\n",
    "\n",
    "# //----------------------------------------------------------------------------------------\n",
    "# //! computes pressure/density in spherical coordinates\n",
    "\n",
    "def PoverR(r, theta):\n",
    "  rad = r*np.sin(theta)\n",
    "  poverr = p0_over_r0*np.power(rad/r0, pslope)\n",
    "  return poverr\n",
    "\n",
    "\n",
    "# athinput.stellar_flux\n",
    "# <mesh>\n",
    "nx1          = 64                  # Number of zones in X1-direction\n",
    "x1min        = 0.54                # minimum value of X1\n",
    "x1max        = 8.0                 # maximum value of X1\n",
    "\n",
    "nx2          = 96                  # Number of zones in X2-direction\n",
    "x2min        = 0.3831043444619522  # minimum value of X2\n",
    "x2max        = 2.758488309127841   # maximum value of X2\n",
    "\n",
    "# <hydro>\n",
    "dfloor       = 1e-12               # minimum density\n",
    "\n",
    "# <radiation>\n",
    "prat         = 1.13e3              # $a_rT_0^4/P_0$\n",
    "crat         = 6.36e4              # $c/v_0$\n",
    "unit         = 1                   # adopt the units in the input file\n",
    "T_unit       = 6.14e3              # T_0 [K]\n",
    "density_unit = 4.28e-14            # \\rho_0 [g/cm^3]\n",
    "length_unit  = 5.98e14             # L_0 [cm]\n",
    "\n",
    "# <problem>\n",
    "GM           = 1.0                 # gravitational potential\n",
    "r0           = 1.0\n",
    "rho0         = 1.0                 # [\\rho_0]\n",
    "p0_over_r0   = 4.80e-03\n",
    "pslope       = -0.5                # pressure power-law index\n",
    "dslope       = -2.25               # density power-law index\n",
    "# end athinput.stellar_flux \n",
    "\n",
    "# extra quantities\n",
    "kappa_star_cgs    = 10\n",
    "# r_c               = 2.5            # exponential taper\n",
    "dgratio           = 100            # dust-to-gas ratio\n",
    "small_grain_ratio = 0.02184\n",
    "t_star            = 9.42e-1        # [T_0]\n",
    "r_star            = 1.16e-4        # [L_0]\n",
    "# the total stellar luminosity is 1 Lsun\n",
    "\n",
    "# Get from .athdf snapshot\n",
    "x1f = np.logspace(np.log10(x1min), np.log10(x1max), nx1+1, dtype=np.float64)\n",
    "x1v = np.sqrt(x1f[:-1]*x1f[1:])\n",
    "x2f = np.linspace(x2min, x2max, nx2+1, dtype=np.float64)\n",
    "x2v = 0.5*(x2f[:-1]+x2f[1:])\n",
    "X1V, X2V = np.meshgrid(x1v, x2v)\n",
    "\n",
    "# void Mesh::InitUserMeshData(ParameterInput *pin) {\n",
    "# // Get parameters for gravitatonal potential of central point mass\n",
    "gm0 = GM # gm0 = pin->GetOrAddReal(\"problem\",\"GM\",0.0);\n",
    "rho_extend = np.zeros((nx2, nx1+1), dtype=np.float64)\n",
    "rho_extend[:, 0] = 0\n",
    "rho_extend[:, 1:] = DenProfileSph(X1V, X2V, 0) # or read in from your code\n",
    "rho_extend[rho_extend<dfloor] = dfloor\n",
    "\n",
    "kappa_star = kappa_star_cgs*dgratio*small_grain_ratio*density_unit*length_unit\n",
    "dx1 = np.concatenate(([0], np.diff(x1f)))\n",
    "dtau_star = kappa_star*dx1[None, :]*rho_extend\n",
    "tau_star  = np.cumsum(dtau_star, axis=1)\n",
    "F_star = (r_star/x1f)**2*(0.25*crat*prat)*t_star**4*(1-np.exp(-tau_star))\n",
    "\n",
    "plt.pcolormesh(x1f, x2v, np.log10(F_star))\n",
    "plt.colorbar()"
   ]
  },
  {
   "cell_type": "code",
   "execution_count": 3,
   "metadata": {},
   "outputs": [
    {
     "data": {
      "text/plain": [
       "558.9816959999999"
      ]
     },
     "execution_count": 3,
     "metadata": {},
     "output_type": "execute_result"
    }
   ],
   "source": [
    "kappa_star"
   ]
  },
  {
   "cell_type": "code",
   "execution_count": 4,
   "metadata": {},
   "outputs": [
    {
     "name": "stderr",
     "output_type": "stream",
     "text": [
      "/tmp/ipykernel_21173/906973358.py:3: RuntimeWarning: divide by zero encountered in log10\n",
      "  plt.pcolormesh(x1v, x2v, np.log10(divF_star))\n",
      "/tmp/ipykernel_21173/906973358.py:3: RuntimeWarning: invalid value encountered in log10\n",
      "  plt.pcolormesh(x1v, x2v, np.log10(divF_star))\n"
     ]
    },
    {
     "data": {
      "text/plain": [
       "<matplotlib.colorbar.Colorbar at 0x7f3632e7acd0>"
      ]
     },
     "execution_count": 4,
     "metadata": {},
     "output_type": "execute_result"
    },
    {
     "data": {
      "image/png": "[encoded data removed]",
      "text/plain": [
       "<Figure size 640x480 with 2 Axes>"
      ]
     },
     "metadata": {},
     "output_type": "display_data"
    }
   ],
   "source": [
    "divF_star = np.diff(x1f[None, :]**2 * F_star, axis=1) / np.diff(x1f[None, :], axis=1) / (x1v[None, :]**2)\n",
    "\n",
    "plt.pcolormesh(x1v, x2v, np.log10(divF_star))\n",
    "plt.colorbar()"
   ]
  },
  {
   "cell_type": "markdown",
   "metadata": {},
   "source": [
    "### Light-crossing Time\n",
    "\n",
    "Assuming $L_r$ is the radial extent of the domain,\n",
    "\\begin{align*}\n",
    "    t_\\mathrm{cross} &= \\frac{L_r}{c} \\\\\n",
    "    \\frac{t_\\mathrm{cross}}{t_0} &= \\frac{L_r}{\\mathbb{C} L_0},\n",
    "\\end{align*}\n",
    "since $t_0 = \\mathbb{C}L_0/c$."
   ]
  },
  {
   "cell_type": "code",
   "execution_count": 5,
   "metadata": {},
   "outputs": [
    {
     "ename": "FileNotFoundError",
     "evalue": "[Errno 2] No such file or directory: 'npsi4/nzeta5/athinput.stellar_flux'",
     "output_type": "error",
     "traceback": [
      "\u001b[0;31m---------------------------------------------------------------------------\u001b[0m",
      "\u001b[0;31mFileNotFoundError\u001b[0m                         Traceback (most recent call last)",
      "\u001b[1;32m/home/stanley/github/sabaronett/rad-hydro/athena/dev/Development.ipynb Cell 15\u001b[0m line \u001b[0;36m1\n\u001b[1;32m     <a href='vscode-notebook-cell://wsl%2Bubuntu/home/stanley/github/sabaronett/rad-hydro/athena/dev/Development.ipynb#X15sdnNjb2RlLXJlbW90ZQ%3D%3D?line=10'>11</a>\u001b[0m \u001b[39m# Read and compute\u001b[39;00m\n\u001b[1;32m     <a href='vscode-notebook-cell://wsl%2Bubuntu/home/stanley/github/sabaronett/rad-hydro/athena/dev/Development.ipynb#X15sdnNjb2RlLXJlbW90ZQ%3D%3D?line=11'>12</a>\u001b[0m path \u001b[39m=\u001b[39m \u001b[39mf\u001b[39m\u001b[39m'\u001b[39m\u001b[39mnpsi\u001b[39m\u001b[39m{\u001b[39;00mnpsi\u001b[39m}\u001b[39;00m\u001b[39m/nzeta\u001b[39m\u001b[39m{\u001b[39;00mnzeta\u001b[39m}\u001b[39;00m\u001b[39m'\u001b[39m\n\u001b[0;32m---> <a href='vscode-notebook-cell://wsl%2Bubuntu/home/stanley/github/sabaronett/rad-hydro/athena/dev/Development.ipynb#X15sdnNjb2RlLXJlbW90ZQ%3D%3D?line=12'>13</a>\u001b[0m athinput \u001b[39m=\u001b[39m athena_read\u001b[39m.\u001b[39;49mathinput(\u001b[39mf\u001b[39;49m\u001b[39m'\u001b[39;49m\u001b[39m{\u001b[39;49;00mpath\u001b[39m}\u001b[39;49;00m\u001b[39m/athinput.\u001b[39;49m\u001b[39m{\u001b[39;49;00mproblem_id\u001b[39m}\u001b[39;49;00m\u001b[39m'\u001b[39;49m)\n\u001b[1;32m     <a href='vscode-notebook-cell://wsl%2Bubuntu/home/stanley/github/sabaronett/rad-hydro/athena/dev/Development.ipynb#X15sdnNjb2RlLXJlbW90ZQ%3D%3D?line=13'>14</a>\u001b[0m Lr \u001b[39m=\u001b[39m athinput[\u001b[39m'\u001b[39m\u001b[39mmesh\u001b[39m\u001b[39m'\u001b[39m][\u001b[39m'\u001b[39m\u001b[39mx1max\u001b[39m\u001b[39m'\u001b[39m] \u001b[39m-\u001b[39m athinput[\u001b[39m'\u001b[39m\u001b[39mmesh\u001b[39m\u001b[39m'\u001b[39m][\u001b[39m'\u001b[39m\u001b[39mx1min\u001b[39m\u001b[39m'\u001b[39m]\n\u001b[1;32m     <a href='vscode-notebook-cell://wsl%2Bubuntu/home/stanley/github/sabaronett/rad-hydro/athena/dev/Development.ipynb#X15sdnNjb2RlLXJlbW90ZQ%3D%3D?line=14'>15</a>\u001b[0m crat \u001b[39m=\u001b[39m athinput[\u001b[39m'\u001b[39m\u001b[39mradiation\u001b[39m\u001b[39m'\u001b[39m][\u001b[39m'\u001b[39m\u001b[39mcrat\u001b[39m\u001b[39m'\u001b[39m]\n",
      "File \u001b[0;32m~/github/PrincetonUniversity/athena/vis/python/athena_read.py:1013\u001b[0m, in \u001b[0;36mathinput\u001b[0;34m(filename)\u001b[0m\n\u001b[1;32m   1010\u001b[0m \u001b[39m\u001b[39m\u001b[39m\"\"\"Read athinput file and returns a dictionary of dictionaries.\"\"\"\u001b[39;00m\n\u001b[1;32m   1012\u001b[0m \u001b[39m# Read data\u001b[39;00m\n\u001b[0;32m-> 1013\u001b[0m \u001b[39mwith\u001b[39;00m \u001b[39mopen\u001b[39;49m(filename, \u001b[39m'\u001b[39;49m\u001b[39mr\u001b[39;49m\u001b[39m'\u001b[39;49m) \u001b[39mas\u001b[39;00m athinput:\n\u001b[1;32m   1014\u001b[0m     \u001b[39m# remove comments, extra whitespace, and empty lines\u001b[39;00m\n\u001b[1;32m   1015\u001b[0m     lines \u001b[39m=\u001b[39m \u001b[39mfilter\u001b[39m(\u001b[39mNone\u001b[39;00m, [i\u001b[39m.\u001b[39msplit(\u001b[39m'\u001b[39m\u001b[39m#\u001b[39m\u001b[39m'\u001b[39m)[\u001b[39m0\u001b[39m]\u001b[39m.\u001b[39mstrip() \u001b[39mfor\u001b[39;00m i \u001b[39min\u001b[39;00m athinput\u001b[39m.\u001b[39mreadlines()])\n\u001b[1;32m   1016\u001b[0m data \u001b[39m=\u001b[39m {}\n",
      "\u001b[0;31mFileNotFoundError\u001b[0m: [Errno 2] No such file or directory: 'npsi4/nzeta5/athinput.stellar_flux'"
     ]
    }
   ],
   "source": [
    "#==============================================================================\n",
    "import sys\n",
    "sys.path.insert(0, '/home/stanley/github/PrincetonUniversity/athena/vis/python')\n",
    "import athena_read\n",
    "import numpy as np\n",
    "\n",
    "npsi = 4\n",
    "nzeta = 5\n",
    "problem_id = 'stellar_flux'\n",
    "\n",
    "# Read and compute\n",
    "path = f'npsi{npsi}/nzeta{nzeta}'\n",
    "athinput = athena_read.athinput(f'{path}/athinput.{problem_id}')\n",
    "Lr = athinput['mesh']['x1max'] - athinput['mesh']['x1min']\n",
    "crat = athinput['radiation']['crat']\n",
    "L0 = athinput['radiation']['length_unit']\n",
    "t_cross = Lr/crat/L0\n",
    "print(f't_cross/t₀ = {t_cross:.2e}')\n"
   ]
  },
  {
   "cell_type": "markdown",
   "metadata": {},
   "source": [
    "## Appendix"
   ]
  },
  {
   "cell_type": "markdown",
   "metadata": {},
   "source": [
    "### Single Beam (`gid == 0`)"
   ]
  },
  {
   "cell_type": "code",
   "execution_count": null,
   "metadata": {},
   "outputs": [],
   "source": [
    "#==============================================================================\n",
    "import sys\n",
    "sys.path.insert(0, '/home/stanley/github/PrincetonUniversity/athena/vis/python')\n",
    "import athena_read\n",
    "import matplotlib.pyplot as plt\n",
    "import matplotlib.colors as colors\n",
    "import numpy as np\n",
    "\n",
    "wd = 'beam_gid0'\n",
    "offset = 0.1\n",
    "vmin, vmax = 0.05, 2\n",
    "fig, ax = plt.subplots(figsize=(4.68, 9), dpi=90)\n",
    "\n",
    "# Read and plot\n",
    "path = f'{wd}'\n",
    "athinput = athena_read.athinput(f'{path}/athinput.beam_gid0')\n",
    "pid = athinput['job']['problem_id']\n",
    "nmu = athinput['radiation']['nmu']\n",
    "octnum = athinput['problem']['octnum']\n",
    "zone_index = athinput['problem']['zone_index']\n",
    "athdf = athena_read.athdf(f'{path}/athdf/{pid}.out1.00001.athdf')\n",
    "t = athdf['Time']\n",
    "clip = np.clip(athdf['Er'][0], vmin, vmax)\n",
    "Er = ax.pcolormesh(athdf['x1v'], athdf['x2v'], clip, cmap='plasma',\n",
    "                   norm=colors.LogNorm())\n",
    "\n",
    "# Format (sub)plots\n",
    "cb_Er = plt.colorbar(Er, label='$E_\\mathrm{r}/(a_\\mathrm{r}T_0^4)$')\n",
    "ax.minorticks_on()\n",
    "ax.set_title(f'$n_\\mu={nmu}$, $t={t:.0f}t_0$\\noctnum={octnum}, zone_index={zone_index}')\n",
    "ax.set(aspect='equal', xlabel='$x/L_0$', ylabel='$y/L_0$')\n",
    "ax.tick_params(axis='both', which='both', top=True, right=True)"
   ]
  },
  {
   "cell_type": "markdown",
   "metadata": {},
   "source": [
    "### Rotated single Beam (`gid == 0`)\n",
    "- Try fixing for-loop indices in `TwoBeamHydro()`"
   ]
  }
 ],
 "metadata": {
  "kernelspec": {
   "display_name": "athena",
   "language": "python",
   "name": "python3"
  },
  "language_info": {
   "codemirror_mode": {
    "name": "ipython",
    "version": 3
   },
   "file_extension": ".py",
   "mimetype": "text/x-python",
   "name": "python",
   "nbconvert_exporter": "python",
   "pygments_lexer": "ipython3",
   "version": "3.11.4"
  },
  "orig_nbformat": 4
 },
 "nbformat": 4,
 "nbformat_minor": 2
}
