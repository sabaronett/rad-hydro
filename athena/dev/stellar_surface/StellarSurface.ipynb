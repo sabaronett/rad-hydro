{
 "cells": [
  {
   "cell_type": "markdown",
   "metadata": {},
   "source": [
    "# Stellar Surface\n",
    "| Author  | Stanley A. Baronett  |\n",
    "|---------|----------------------|\n",
    "| Created |  09/29/2023          |\n",
    "| Updated |  10/16/2023          |"
   ]
  },
  {
   "cell_type": "markdown",
   "metadata": {},
   "source": [
    "## [Quantities](https://github.com/PrincetonUniversity/athena/wiki/Non-relativistic-Radiation-Transport#units)"
   ]
  },
  {
   "cell_type": "markdown",
   "metadata": {},
   "source": [
    "- Code Units\n",
    "  - Temperature $T_0$\n",
    "  - Density $\\rho_0$\n",
    "  - Length $L_0$\n",
    "  - Time $t_0 = L_0 / v_0 = \\mathbb{C}L_0 / c$\n",
    "- Ideal Gas\n",
    "  - Constant mean molecular weight $\\mu$\n",
    "  - Velocity $v_0 = \\sqrt{k_\\mathrm{B} T_0 / (\\mu m_\\mathrm{p})}$\n",
    "  - Pressure $P_0 \\equiv k_\\mathrm{B}\\rho_0 T_0 / (\\mu m_\\mathrm{p})$\n",
    "  - Internal energy $E_\\mathrm{g} = P/(\\gamma_\\mathrm{g} - 1)$ for adiabatic index $\\gamma_\\mathrm{g} \\neq 1$\n",
    "  - Temperature $T = P/(R_\\mathrm{ideal}\\rho) = E_\\mathrm{g}(\\gamma_\\mathrm{g} - 1)/(R_\\mathrm{ideal}\\rho)$\n",
    "- Radiation\n",
    "  - Specific intensity $I\\,[a_\\mathrm{r}T_0^4]$\n",
    "  - Energy density $E_\\mathrm{r} = \\int I\\mathrm{d}\\Omega$ (taking $4\\pi = 1$)\n",
    "  - Flux $\\mathbf{F}_\\mathrm{r} = \\int\\mathbf{n}I\\mathrm{d}\\Omega$ (units of $ca_\\mathrm{r}T_0^4$)\n",
    "- Dimensionless\n",
    "  - $\\mathbb{C} \\equiv \\mathcal{C} \\equiv c/v_0$\n",
    "  - $\\mathbb{P} \\equiv \\mathcal{P} \\equiv a_\\mathrm{r}T_0^4 / P_0 = a_\\mathrm{r}T_0^4 / (\\rho_0 R_\\mathrm{ideal} T_0)$\n",
    "- Sums\n",
    "  - Total pressure (energy) $P_\\mathrm{g} + \\mathbb{P}P_\\mathrm{r}\\,[P_0]$\n",
    "  - Total momentum $\\rho v + F_\\mathrm{r}\\mathbb{P}/\\mathbb{C}\\,[\\rho_0 v_0]$"
   ]
  },
  {
   "cell_type": "markdown",
   "metadata": {},
   "source": [
    "## Stellar Surface"
   ]
  },
  {
   "cell_type": "markdown",
   "metadata": {},
   "source": [
    "### Total surface emission\n",
    "\n",
    "```\n",
    "nzeta       = 1                   # number of polar angles (0 to pi/2)\n",
    "npsi        = 2                   # number of azimuthal angles (0 to pi)\n",
    "```\n",
    "![Total surface emission](nzeta1/tot_surf/figs/slice.png)"
   ]
  },
  {
   "cell_type": "markdown",
   "metadata": {},
   "source": [
    "### Isotropic emission only at $\\theta=\\pi/2$\n",
    "\n",
    "```\n",
    "nzeta       = 1                   # number of polar angles (0 to pi/2)\n",
    "npsi        = 2                   # number of azimuthal angles (0 to pi)\n",
    "```\n",
    "![Emission only at $\\theta=\\pi/2$](nzeta1/theta0.5pi/figs/slice.png)"
   ]
  },
  {
   "cell_type": "markdown",
   "metadata": {},
   "source": [
    "### Most-radial emission only at $\\theta=\\pi/2$\n",
    "\n",
    "```\n",
    "nzeta       = 5                   # number of polar angles (0 to pi/2)\n",
    "npsi        = 2                   # number of azimuthal angles (0 to pi)\n",
    "```\n",
    "#### Single ray\n",
    "![Emission only at $\\theta=\\pi/2$](nzeta5/theta0.5pi_radial/figs/slice.single.png)\n",
    "#### All most radial rays\n",
    "![Emission only at $\\theta=\\pi/2$](nzeta5/theta0.5pi_radial/figs/slice.png)"
   ]
  },
  {
   "cell_type": "markdown",
   "metadata": {},
   "source": [
    "### Most-radial emission only at $\\theta=\\pi/2$\n",
    "\n",
    "```\n",
    "nzeta       = 6                   # number of polar angles (0 to pi/2)\n",
    "npsi        = 4                   # number of azimuthal angles (0 to pi)\n",
    "```\n",
    "#### Single ray\n",
    "![Emission only at $\\theta=\\pi/2$](nzeta6-npsi4/theta0.5pi_radial/figs/slice.single.png)\n",
    "#### All most radial rays\n",
    "![Emission only at $\\theta=\\pi/2$](nzeta6-npsi4/theta0.5pi_radial/figs/slice.png)"
   ]
  },
  {
   "cell_type": "markdown",
   "metadata": {},
   "source": [
    "## Appendix"
   ]
  },
  {
   "cell_type": "markdown",
   "metadata": {},
   "source": [
    "### Single Beam (`gid == 0`)"
   ]
  },
  {
   "cell_type": "code",
   "execution_count": null,
   "metadata": {},
   "outputs": [],
   "source": [
    "#==============================================================================\n",
    "import sys\n",
    "sys.path.insert(0, '/home/stanley/github/PrincetonUniversity/athena/vis/python')\n",
    "import athena_read\n",
    "import matplotlib.pyplot as plt\n",
    "import matplotlib.colors as colors\n",
    "import numpy as np\n",
    "\n",
    "wd = 'beam_gid0'\n",
    "offset = 0.1\n",
    "vmin, vmax = 0.05, 2\n",
    "fig, ax = plt.subplots(figsize=(4.68, 9), dpi=90)\n",
    "\n",
    "# Read and plot\n",
    "path = f'{wd}'\n",
    "athinput = athena_read.athinput(f'{path}/athinput.beam_gid0')\n",
    "pid = athinput['job']['problem_id']\n",
    "nmu = athinput['radiation']['nmu']\n",
    "octnum = athinput['problem']['octnum']\n",
    "zone_index = athinput['problem']['zone_index']\n",
    "athdf = athena_read.athdf(f'{path}/athdf/{pid}.out1.00001.athdf')\n",
    "t = athdf['Time']\n",
    "clip = np.clip(athdf['Er'][0], vmin, vmax)\n",
    "Er = ax.pcolormesh(athdf['x1v'], athdf['x2v'], clip, cmap='plasma',\n",
    "                   norm=colors.LogNorm())\n",
    "\n",
    "# Format (sub)plots\n",
    "cb_Er = plt.colorbar(Er, label='$E_\\mathrm{r}/(a_\\mathrm{r}T_0^4)$')\n",
    "ax.minorticks_on()\n",
    "ax.set_title(f'$n_\\mu={nmu}$, $t={t:.0f}t_0$\\noctnum={octnum}, zone_index={zone_index}')\n",
    "ax.set(aspect='equal', xlabel='$x/L_0$', ylabel='$y/L_0$')\n",
    "ax.tick_params(axis='both', which='both', top=True, right=True)"
   ]
  },
  {
   "cell_type": "markdown",
   "metadata": {},
   "source": [
    "### Rotated single Beam (`gid == 0`)\n",
    "- Try fixing for-loop indices in `TwoBeamHydro()`"
   ]
  }
 ],
 "metadata": {
  "kernelspec": {
   "display_name": "athena",
   "language": "python",
   "name": "python3"
  },
  "language_info": {
   "codemirror_mode": {
    "name": "ipython",
    "version": 3
   },
   "file_extension": ".py",
   "mimetype": "text/x-python",
   "name": "python",
   "nbconvert_exporter": "python",
   "pygments_lexer": "ipython3",
   "version": "3.11.4"
  },
  "orig_nbformat": 4
 },
 "nbformat": 4,
 "nbformat_minor": 2
}
