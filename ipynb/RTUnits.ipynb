{
 "cells": [
  {
   "cell_type": "markdown",
   "metadata": {},
   "source": [
    "# [Athena++ Radiation Transport](https://github.com/PrincetonUniversity/athena/wiki/Non-relativistic-Radiation-Transport) Units\n",
    "| Author  | Stanley A. Baronett  |\n",
    "|---------|----------------------|\n",
    "| Created |  08/23/2024          |\n",
    "| Updated |  08/23/2024          |"
   ]
  },
  {
   "cell_type": "markdown",
   "metadata": {},
   "source": [
    "## [Quantities](https://github.com/PrincetonUniversity/athena/wiki/Non-relativistic-Radiation-Transport#units)"
   ]
  },
  {
   "cell_type": "markdown",
   "metadata": {},
   "source": [
    "- Code Units\n",
    "  - Temperature $T_0$ `T_unit`\n",
    "  - Density $\\rho_0$ `density_unit`\n",
    "  - Length $L_0$ `length_unit`\n",
    "  - Time $t_0 = L_0 / v_0 = \\mathbb{C}L_0 / c$\n",
    "- Ideal Gas\n",
    "  - Constant mean molecular weight $\\mu$ `molecular_weight`\n",
    "  - Atomic mass constant $m_\\mathrm{u}$\n",
    "  - Gas velocity (isothermal sound speed) $v_0 = c_\\mathrm{s,iso} = \\sqrt{k_\\mathrm{B} T_0 / (\\mu m_\\mathrm{u})}$\n",
    "  - Pressure $P_0 \\equiv k_\\mathrm{B}\\rho_0 T_0 / (\\mu m_\\mathrm{u}) = \\rho_0 R_\\mathrm{ideal} T_0$\n",
    "  - Internal energy $E_\\mathrm{g} = P/(\\gamma_\\mathrm{g} - 1)$ for adiabatic index $\\gamma_\\mathrm{g} \\neq 1$\n",
    "  - Temperature $T = P/(R_\\mathrm{ideal}\\rho) = E_\\mathrm{g}(\\gamma_\\mathrm{g} - 1)/(R_\\mathrm{ideal}\\rho)$\n",
    "- Radiation\n",
    "  - Specific intensity $I\\,[a_\\mathrm{r}T_0^4]$\n",
    "  - Energy density $E_\\mathrm{r} = \\int I\\mathrm{d}\\Omega$ (taking $4\\pi = 1$)\n",
    "  - Flux $\\mathbf{F}_\\mathrm{r} = \\int\\mathbf{n}I\\mathrm{d}\\Omega$ (units of $ca_\\mathrm{r}T_0^4$)\n",
    "- Dimensionless\n",
    "  - $\\mathbb{C} = \\mathcal{C} \\equiv c/v_0 = c/c_\\mathrm{s,iso}$\n",
    "  - $\\mathbb{P} = \\mathcal{P} \\equiv a_\\mathrm{r}T_0^4 / P_0 = a_\\mathrm{r}T_0^4 / (\\rho_0 R_\\mathrm{ideal} T_0)$\n",
    "- Sums\n",
    "  - Total pressure (energy) $P_\\mathrm{g} + \\mathbb{P}P_\\mathrm{r}\\,[P_0]$\n",
    "  - Total momentum $\\rho v + F_\\mathrm{r}\\mathbb{P}/\\mathbb{C}\\,[\\rho_0 v_0]$"
   ]
  },
  {
   "cell_type": "code",
   "execution_count": 1,
   "metadata": {},
   "outputs": [
    {
     "name": "stdout",
     "output_type": "stream",
     "text": [
      "prat = 2.95e+02\n",
      "crat = 3.25e+04\n",
      " P_0 = \\rho_0*R_ideal*T_0       = 3.64e-02 g/cm/s^2\n",
      " P_0 = k_B*\\rho_0*T_0/(\\mu*m_u) = 3.64e-02 g/cm/s^2\n",
      "(prat_check = a_r*T_0^4/P_0 = 2.95e+02)\n"
     ]
    }
   ],
   "source": [
    "# BEGIN /athinput.[pgen]\n",
    "# <radiation>\n",
    "T_unit           = 6.14e3              # T_0 [K]\n",
    "density_unit     = 4.28e-14            # \\rho_0 [g/cm^3]\n",
    "molecular_weight = 0.6                 # \\mu\n",
    "# END /athinput.[pgen]\n",
    "\n",
    "# BEGIN athena/src/nr_radiation/radiation.cpp\n",
    "# NRRadiation::NRRadiation(...) {\n",
    "#   // universal constants we need\n",
    "#   // https://physics.info/constants/\n",
    "#   // arad = 4 * sigma/c\n",
    "arad = 7.565733250033928e-15\n",
    "c_speed = 2.99792458e10 # // speed of light\n",
    "\n",
    "tunit = T_unit                # pin->GetOrAddReal(\"radiation\",\"T_unit\",1.e7);\n",
    "rhounit = density_unit        # pin->GetOrAddReal(\"radiation\",\"density_unit\",1.0);\n",
    "mol_weight = molecular_weight # pin->GetOrAddReal(\"radiation\",\"molecular_weight\",0.6);\n",
    "\n",
    "# ...\n",
    "#   }  else if (user_unit_ == 1) {\n",
    "#      // calculate prat and crat based on user provided unit\n",
    "r_ideal = 8.314462618e7/mol_weight\n",
    "prat = arad * tunit * tunit * tunit/(rhounit * r_ideal)\n",
    "cs_iso = (r_ideal * tunit)**(1/2)\n",
    "crat = c_speed/cs_iso\n",
    "# END athena/src/nr_radiation/radiation.cpp\n",
    "\n",
    "# Extra conversions\n",
    "m_u              = 1.66e-24            # atomic mass constant [g]\n",
    "k_B              = 1.38e-16            # Boltzmann constant [erg/K]\n",
    "P_0 = density_unit*r_ideal*T_unit\n",
    "P_0alt = k_B*density_unit*T_unit/molecular_weight/m_u\n",
    "prat_check = arad*T_unit**4/P_0\n",
    "\n",
    "print(f'prat = {prat:.2e}')\n",
    "print(f'crat = {crat:.2e}')\n",
    "print(rf' P_0 = \\rho_0*R_ideal*T_0       = {P_0:.2e} g/cm/s^2')\n",
    "print(rf' P_0 = k_B*\\rho_0*T_0/(\\mu*m_u) = {P_0alt:.2e} g/cm/s^2')\n",
    "print(f'(prat_check = a_r*T_0^4/P_0 = {prat_check:.2e})')\n"
   ]
  },
  {
   "cell_type": "markdown",
   "metadata": {},
   "source": [
    "From Jiang ([2021](https://ui.adsabs.harvard.edu/abs/2021ApJS..253...49J/abstract), under eq. 10),\n",
    "$$\n",
    "  T = \\frac{P}{R_\\mathrm{ideal}\\rho},\n",
    "$$\n",
    "where $R_\\mathrm{ideal} = R/\\mu$.\n",
    "$R$ is the gas constant, and the [mean molecular weight](http://astronomy.nmsu.edu/jasonj/565/docs/09_03.pdf) $\\mu = \\overline{m}/m_\\mathrm{u}$, where $\\overline{m}$ is the mean mass per particle and the [atomic mass constant](https://en.wikipedia.org/wiki/Dalton_(unit)) $m_\\mathrm{u} \\approx m_\\mathrm{p}$, the proton mass."
   ]
  },
  {
   "cell_type": "markdown",
   "metadata": {},
   "source": [
    "## Stellar Properties"
   ]
  },
  {
   "cell_type": "markdown",
   "metadata": {},
   "source": [
    "The luminosity $L = FA$, where $F$ is the flux and $A$ is the emission surface area.\n",
    "For an emitting sphere with radius $R$, and $F = ca_\\mathrm{r}T^4/4$ (Rybicki & Lightman 1979, eq. 1.43), where $ca_\\mathrm{r}/4 = \\sigma$ the Stefan–Boltzmann constant $\\left[\\mathrm{erg}\\,\\mathrm{s}^{-1}\\,\\mathrm{cm}^{-2}\\,\\mathrm{K}^{-4}\\right]$\n",
    "\n",
    "\\begin{align}\n",
    "  L &= \\frac{ca_\\mathrm{r}}{4} T^4(4\\pi R^2) \\\\\n",
    "    &= \\pi ca_\\mathrm{r} T^4R^2\n",
    "\\end{align}"
   ]
  },
  {
   "cell_type": "code",
   "execution_count": 2,
   "metadata": {},
   "outputs": [
    {
     "name": "stdout",
     "output_type": "stream",
     "text": [
      "       R = 1.00 Rsun\n",
      "       T = 5784 K\n",
      "       L = 1.00 Lsun\n",
      "F( 1 au) = 4.23e-06 ca_rT_0^4 = 1.36e+06 erg/cm^2/s = 1364 W/m^2 (solar constant)\n",
      "F(10 au) = 4.23e-08 ca_rT_0^4 = 1.36e+04 erg/cm^2/s = 13.6 W/m^2\n"
     ]
    }
   ],
   "source": [
    "#===============================================================================\n",
    "import numpy as np\n",
    "\n",
    "# BEGIN athinput.[pgen]\n",
    "# <radiation>\n",
    "length_unit      = 5.98e14             # L_0 [cm]\n",
    "\n",
    "# <problem>\n",
    "R                = 1.16e-4             # solar radius [L_0]\n",
    "T                = 9.42e-1             # solar temperature [T_0]\n",
    "# END athinput.[pgen]\n",
    "\n",
    "# Solar constants, astrophysical units and conversions\n",
    "Lsun             = 3.83e33             # solar luminosity [erg/s]\n",
    "Rsun             = 6.95700e10          # solar radius [cm]\n",
    "au               = 1.495978707e13      # astronomical unit [cm]\n",
    "L_au             = length_unit/au      # [au]\n",
    "\n",
    "# Compute stellar flux and luminosity\n",
    "Flux = lambda r : np.power(T, 4)*np.power(R/r, 2)/4 # stellar flux at r [c*a_r*T_0^4]\n",
    "A = 4*np.pi*(R*length_unit)**2                      # surface area [cm^2]\n",
    "L = Flux(R)*c_speed*arad*T_unit**4*A                      # luminosity [erg/s]\n",
    "\n",
    "print(f'       R = {R*length_unit/Rsun:.2f} Rsun')\n",
    "print(f'       T = {T*T_unit:.0f} K')\n",
    "print(f'       L = {L/Lsun:.2f} Lsun')\n",
    "print(f'F( 1 au) = {Flux(1/L_au):.2e} ca_rT_0^4'\\\n",
    "      + f' = {Flux(1/L_au)*c_speed*arad*T_unit**4:.2e} erg/cm^2/s'\\\n",
    "      + f' = {Flux(1/L_au)*c_speed*arad*T_unit**4/1e3:.0f} W/m^2 (solar constant)')\n",
    "print(f'F(10 au) = {Flux(10/L_au):.2e} ca_rT_0^4'\\\n",
    "      + f' = {Flux(10/L_au)*c_speed*arad*T_unit**4:.2e} erg/cm^2/s'\\\n",
    "      + f' = {Flux(10/L_au)*c_speed*arad*T_unit**4/1e3:.1f} W/m^2')\n",
    "# Flux at Saturn (~10 au) https://astronomy.stackexchange.com/a/25242/33232"
   ]
  }
 ],
 "metadata": {
  "kernelspec": {
   "display_name": "athena",
   "language": "python",
   "name": "python3"
  },
  "language_info": {
   "codemirror_mode": {
    "name": "ipython",
    "version": 3
   },
   "file_extension": ".py",
   "mimetype": "text/x-python",
   "name": "python",
   "nbconvert_exporter": "python",
   "pygments_lexer": "ipython3",
   "version": "3.11.4"
  },
  "orig_nbformat": 4
 },
 "nbformat": 4,
 "nbformat_minor": 2
}
