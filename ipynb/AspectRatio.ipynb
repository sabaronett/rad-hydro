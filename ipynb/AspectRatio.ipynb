{
 "cells": [
  {
   "cell_type": "markdown",
   "metadata": {},
   "source": [
    "# Disk Aspect Ratio\n",
    "| Author  | Stanley A. Baronett  |\n",
    "|---------|----------------------|\n",
    "| Created |  03/21/2025          |\n",
    "| Updated |  03/21/2025          |"
   ]
  },
  {
   "cell_type": "code",
   "execution_count": null,
   "metadata": {},
   "outputs": [
    {
     "name": "stdout",
     "output_type": "stream",
     "text": [
      "           (P/ρ)^1/2 = 0.10\n",
      "[(P/ρ)/(GM/r0)]/^1/2 = 0.10\n"
     ]
    }
   ],
   "source": [
    "# athena/inputs/hydro/athinput.disk_sph (https://github.com/PrincetonUniversity/athena/blob/7ca1b9508ffc77c9caa0c5d0babd416b57e06841/inputs/hydro/athinput.disk_sph)\n",
    "# <problem>\n",
    "GM          = 1.0\n",
    "r0          = 1.0\n",
    "p0_over_r0  = 0.01\n",
    "\n",
    "print(f'           (P/ρ)^1/2 = {np.sqrt(p0_over_r0):.2f}')\n",
    "print(f'[(P/ρ)/(GM/r0)]/^1/2 = {np.sqrt(p0_over_r0/GM/r0):.2f}')"
   ]
  },
  {
   "cell_type": "code",
   "execution_count": null,
   "metadata": {},
   "outputs": [
    {
     "name": "stdout",
     "output_type": "stream",
     "text": [
      "           (P/ρ)^1/2 = 0.07\n",
      "[(P/ρ)/(GM/r0)]/^1/2 = 0.11\n"
     ]
    }
   ],
   "source": [
    "# athinput.dsharp (https://github.com/sabaronett/rad-hydro/blob/main/athena/dev/yanfeij/dsharp_abs-sca/nfreq/64/athinput.dsharp)\n",
    "# <problem>\n",
    "GM          = 1.0\n",
    "r0          = 0.425278227742474\n",
    "p0_over_r0  = 4.80e-03\n",
    "\n",
    "print(f'           (P/ρ)^1/2 = {np.sqrt(p0_over_r0):.2f}')\n",
    "print(f'[(P/ρ)/(GM/r0)]/^1/2 = {np.sqrt(p0_over_r0/GM/r0):.2f}')"
   ]
  }
 ],
 "metadata": {
  "kernelspec": {
   "display_name": "athena",
   "language": "python",
   "name": "python3"
  },
  "language_info": {
   "codemirror_mode": {
    "name": "ipython",
    "version": 3
   },
   "file_extension": ".py",
   "mimetype": "text/x-python",
   "name": "python",
   "nbconvert_exporter": "python",
   "pygments_lexer": "ipython3",
   "version": "3.11.4"
  }
 },
 "nbformat": 4,
 "nbformat_minor": 2
}
