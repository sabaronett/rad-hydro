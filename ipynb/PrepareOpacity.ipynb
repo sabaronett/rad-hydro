{
 "cells": [
  {
   "cell_type": "code",
   "execution_count": 1,
   "id": "df0e550e",
   "metadata": {},
   "outputs": [
    {
     "name": "stderr",
     "output_type": "stream",
     "text": [
      "/var/folders/xc/18p6rmkn3wv451bp5cpdk04m0000gq/T/ipykernel_10776/486904499.py:26: MatplotlibDeprecationWarning: Support for setting an rcParam that expects a str value to a non-str value is deprecated since 3.5 and support will be removed two minor releases later.\n",
      "  plt.rcParams['text.latex.preamble'] = [r'\\usepackage{sfmath} \\boldmath']\n"
     ]
    }
   ],
   "source": [
    "import matplotlib\n",
    "matplotlib.use('Agg')\n",
    "%matplotlib inline\n",
    "#%matplotlib notebook\n",
    "import sys\n",
    "sys.settrace\n",
    "import numpy as np\n",
    "import matplotlib.pyplot as plt\n",
    "from matplotlib.colors import LogNorm\n",
    "from pylab import *\n",
    "import struct\n",
    "import array\n",
    "import os\n",
    "import glob\n",
    "import h5py\n",
    "from scipy.interpolate import griddata\n",
    "import scipy.integrate as integrate\n",
    "\n",
    "import unicodedata\n",
    "\n",
    "\n",
    "plt.rcParams.update({\n",
    "    \"text.usetex\": True,\n",
    "    \"font.family\": \"serif\",\n",
    "    \"font.sans-serif\": [\"DejaVu Serif\"]})\n",
    "plt.rcParams['text.latex.preamble'] = [r'\\usepackage{sfmath} \\boldmath']\n",
    "plt.rcParams['font.size'] = '20'"
   ]
  },
  {
   "cell_type": "code",
   "execution_count": 2,
   "id": "566ad58d",
   "metadata": {},
   "outputs": [],
   "source": [
    "def FitBlackBody(nu_t):\n",
    "    integral = 0.0;\n",
    "    nu_2 = nu_t * nu_t;\n",
    "    nu_3 = nu_t * nu_2;\n",
    "    if nu_t < 1.5:\n",
    "        integral = 0.051329911273422 * nu_3 -0.019248716727533 * nu_t * nu_3 + 0.002566495563671 * nu_2 * nu_3;\n",
    "    elif nu_t < 18.6:\n",
    "        exp_nu = exp(-nu_t);\n",
    "        integral = -0.156915538762850 * exp_nu * (nu_3 + 2.69 * nu_2 + 6.714 * nu_t) + 1.000009331428801*(1- exp_nu);\n",
    "    else:\n",
    "        integral = 1.0 - 192.1*exp(-0.9014*nu_t)\n",
    "\n",
    "    return integral;\n",
    "def BlackBody(nu_t):\n",
    "    spec=(15/np.pi**4.0)*nu_t**3/(exp(nu_t)-1)\n",
    "    \n",
    "    return spec;\n",
    "    \n",
    "def dBlackBodydT(nu_t):\n",
    "    if nu_t < 0.001:\n",
    "        dbdt = nu_t**2-nu_t**4/12.0\n",
    "    elif nu_t > 15:\n",
    "        dbdt = nu_t**4*exp(-nu_t)\n",
    "    else:\n",
    "        dbdt=nu_t**4 *exp(nu_t)/(exp(nu_t)-1)**2   \n",
    "    \n",
    "    return dbdt;\n",
    "\n",
    "def powerlaw_spec(nu_t, nu0_t, kappa_0, slope):\n",
    "    kappa=kappa_0*(nu_t/nu0_t)**slope\n",
    "    return kappa*BlackBody(nu_t)\n",
    "\n",
    "def freefree(nu_t,T):\n",
    "    kappa=15.128*(T**(-3.5))*(nu_t**(-3))*(1-exp(-nu_t))\n",
    "    return kappa\n",
    "\n",
    "def freefree_ross(nu_t,T):\n",
    "    return dBlackBodydT(nu_t)*(nu_t**3)/(0.128815*(T**(-3.5))*(1-exp(-nu_t)))\n",
    "\n",
    "def freefree_planck(nu_t,T):\n",
    "    if nu_t < 1.e-5:\n",
    "        factor = 1-nu_t+nu_t**2/2\n",
    "    else:\n",
    "        factor = (1-exp(-nu_t))/(exp(nu_t)-1)\n",
    "    return (15/np.pi**4.0)*0.128815*(T**(-3.5))*factor"
   ]
  },
  {
   "cell_type": "code",
   "execution_count": 3,
   "id": "cf75cf36",
   "metadata": {},
   "outputs": [],
   "source": [
    "def GenerateFre(nfre,fre_min,fre_max,T):\n",
    "    #different frequency resolution grid\n",
    "    log_fre_min=np.log10(fre_min)\n",
    "    log_fre_max=np.log10(fre_max)\n",
    "    \n",
    "    fre_grid=np.arange(nfre+1)\n",
    "    fre_grid=fre_grid*(log_fre_max-log_fre_min)/np.max(fre_grid)+log_fre_min\n",
    "    fre_grid=10**fre_grid\n",
    "    fre_grid=np.insert(fre_grid,0,0)\n",
    "\n",
    "    kappa_a_fr=np.zeros(nfre+2)\n",
    "    kappa_p_fr=np.zeros(nfre+2)\n",
    "    for i in range(0,nfre+1):\n",
    "        result=integrate.quad(freefree_planck, fre_grid[i]/T, fre_grid[i+1]/T, args=T)\n",
    "        weight=integrate.quad(BlackBody,fre_grid[i]/T, fre_grid[i+1]/T)\n",
    "        kappa_p_fr[i]=result[0]/weight[0]\n",
    "    \n",
    "    for i in range(0,nfre+1):\n",
    "        result=integrate.quad(freefree_ross, fre_grid[i]/T, fre_grid[i+1]/T, args=T)\n",
    "        weight=integrate.quad(dBlackBodydT,fre_grid[i]/T, fre_grid[i+1]/T)\n",
    "        kappa_a_fr[i]=weight[0]/result[0]\n",
    "    \n",
    "    \n",
    "    result=integrate.quad(freefree_planck, fre_grid[nfre+1]/T, infty, args=T)\n",
    "    weight=integrate.quad(BlackBody,fre_grid[nfre+1]/T,infty)\n",
    "    kappa_p_fr[nfre+1]=result[0]/weight[0]\n",
    "\n",
    "\n",
    "    result=integrate.quad(freefree_ross, fre_grid[nfre+1]/T, infty, args=T)\n",
    "    weight=integrate.quad(dBlackBodydT,fre_grid[nfre+1]/T,infty)\n",
    "    kappa_a_fr[nfre+1]=weight[0]/result[0]\n",
    "    \n",
    "    return [fre_grid,kappa_a_fr,kappa_p_fr]"
   ]
  },
  {
   "cell_type": "code",
   "execution_count": 4,
   "id": "861b8eb7",
   "metadata": {},
   "outputs": [],
   "source": [
    "T=1\n",
    "nfre=100\n",
    "fre_grid=np.arange(nfre+1)\n",
    "fre_grid=fre_grid*4/np.max(fre_grid)-2\n",
    "fre_grid=10**fre_grid\n",
    "fre_grid=np.insert(fre_grid,0,0)"
   ]
  },
  {
   "cell_type": "code",
   "execution_count": 5,
   "id": "895a9b5c",
   "metadata": {},
   "outputs": [],
   "source": [
    "kappa_a_fr=np.zeros(nfre+2)\n",
    "kappa_p_fr=np.zeros(nfre+2)"
   ]
  },
  {
   "cell_type": "code",
   "execution_count": 6,
   "id": "cb25b642",
   "metadata": {},
   "outputs": [],
   "source": [
    "for i in range(0,nfre+1):\n",
    "    result=integrate.quad(freefree_planck, fre_grid[i]/T, fre_grid[i+1]/T, args=T)\n",
    "    weight=integrate.quad(BlackBody,fre_grid[i]/T, fre_grid[i+1]/T)\n",
    "    kappa_p_fr[i]=result[0]/weight[0]"
   ]
  },
  {
   "cell_type": "code",
   "execution_count": 7,
   "id": "eedc8a0c",
   "metadata": {},
   "outputs": [],
   "source": [
    "for i in range(0,nfre+1):\n",
    "    result=integrate.quad(freefree_ross, fre_grid[i]/T, fre_grid[i+1]/T, args=T)\n",
    "    weight=integrate.quad(dBlackBodydT,fre_grid[i]/T, fre_grid[i+1]/T)\n",
    "    kappa_a_fr[i]=weight[0]/result[0]"
   ]
  },
  {
   "cell_type": "code",
   "execution_count": 8,
   "id": "5d31e3be",
   "metadata": {},
   "outputs": [],
   "source": [
    "result=integrate.quad(freefree_planck, fre_grid[nfre+1]/T, infty, args=T)\n",
    "weight=integrate.quad(BlackBody,fre_grid[nfre+1]/T,infty)\n",
    "kappa_p_fr[nfre+1]=result[0]/weight[0]"
   ]
  },
  {
   "cell_type": "code",
   "execution_count": 9,
   "id": "892275f4",
   "metadata": {},
   "outputs": [],
   "source": [
    "result=integrate.quad(freefree_ross, fre_grid[nfre+1]/T, infty, args=T)\n",
    "weight=integrate.quad(dBlackBodydT,fre_grid[nfre+1]/T,infty)\n",
    "kappa_a_fr[nfre+1]=weight[0]/result[0]"
   ]
  },
  {
   "cell_type": "code",
   "execution_count": 10,
   "id": "5ad4f1d3",
   "metadata": {},
   "outputs": [],
   "source": [
    "plot_num=np.arange(nfre+2)"
   ]
  },
  {
   "cell_type": "code",
   "execution_count": 11,
   "id": "381a397c",
   "metadata": {},
   "outputs": [
    {
     "data": {
      "image/png": "[encoded data removed]",
      "text/plain": [
       "<Figure size 432x288 with 1 Axes>"
      ]
     },
     "metadata": {
      "needs_background": "light"
     },
     "output_type": "display_data"
    }
   ],
   "source": [
    "plt.plot(plot_num,kappa_a_fr,color='red',linestyle='dashed',linewidth=20)\n",
    "plt.plot(plot_num,kappa_p_fr,color='black',linestyle='dashed')\n",
    "plt.yscale('log')\n",
    "plt.xscale('log')"
   ]
  },
  {
   "cell_type": "code",
   "execution_count": 12,
   "id": "97cca3aa",
   "metadata": {},
   "outputs": [],
   "source": [
    "output=np.vstack((fre_grid, kappa_a_fr, kappa_p_fr))"
   ]
  },
  {
   "cell_type": "code",
   "execution_count": 13,
   "id": "f3be258b",
   "metadata": {},
   "outputs": [],
   "source": [
    "np.savetxt('opacities_fre3.txt',np.transpose(output))"
   ]
  },
  {
   "cell_type": "code",
   "execution_count": 14,
   "id": "b83c77dc",
   "metadata": {},
   "outputs": [
    {
     "name": "stdout",
     "output_type": "stream",
     "text": [
      "(3, 102)\n"
     ]
    }
   ],
   "source": [
    "print(output.shape)"
   ]
  },
  {
   "cell_type": "code",
   "execution_count": 15,
   "id": "0b341f22",
   "metadata": {},
   "outputs": [
    {
     "name": "stdout",
     "output_type": "stream",
     "text": [
      "(102,)\n"
     ]
    }
   ],
   "source": [
    "print(fre_grid.shape)"
   ]
  },
  {
   "cell_type": "code",
   "execution_count": 16,
   "id": "8f2f3092",
   "metadata": {},
   "outputs": [
    {
     "name": "stdout",
     "output_type": "stream",
     "text": [
      "[0.00000000e+00 1.00000000e-02 1.09647820e-02 1.20226443e-02\n",
      " 1.31825674e-02 1.44543977e-02 1.58489319e-02 1.73780083e-02\n",
      " 1.90546072e-02 2.08929613e-02 2.29086765e-02 2.51188643e-02\n",
      " 2.75422870e-02 3.01995172e-02 3.31131121e-02 3.63078055e-02\n",
      " 3.98107171e-02 4.36515832e-02 4.78630092e-02 5.24807460e-02\n",
      " 5.75439937e-02 6.30957344e-02 6.91830971e-02 7.58577575e-02\n",
      " 8.31763771e-02 9.12010839e-02 1.00000000e-01 1.09647820e-01\n",
      " 1.20226443e-01 1.31825674e-01 1.44543977e-01 1.58489319e-01\n",
      " 1.73780083e-01 1.90546072e-01 2.08929613e-01 2.29086765e-01\n",
      " 2.51188643e-01 2.75422870e-01 3.01995172e-01 3.31131121e-01\n",
      " 3.63078055e-01 3.98107171e-01 4.36515832e-01 4.78630092e-01\n",
      " 5.24807460e-01 5.75439937e-01 6.30957344e-01 6.91830971e-01\n",
      " 7.58577575e-01 8.31763771e-01 9.12010839e-01 1.00000000e+00\n",
      " 1.09647820e+00 1.20226443e+00 1.31825674e+00 1.44543977e+00\n",
      " 1.58489319e+00 1.73780083e+00 1.90546072e+00 2.08929613e+00\n",
      " 2.29086765e+00 2.51188643e+00 2.75422870e+00 3.01995172e+00\n",
      " 3.31131121e+00 3.63078055e+00 3.98107171e+00 4.36515832e+00\n",
      " 4.78630092e+00 5.24807460e+00 5.75439937e+00 6.30957344e+00\n",
      " 6.91830971e+00 7.58577575e+00 8.31763771e+00 9.12010839e+00\n",
      " 1.00000000e+01 1.09647820e+01 1.20226443e+01 1.31825674e+01\n",
      " 1.44543977e+01 1.58489319e+01 1.73780083e+01 1.90546072e+01\n",
      " 2.08929613e+01 2.29086765e+01 2.51188643e+01 2.75422870e+01\n",
      " 3.01995172e+01 3.31131121e+01 3.63078055e+01 3.98107171e+01\n",
      " 4.36515832e+01 4.78630092e+01 5.24807460e+01 5.75439937e+01\n",
      " 6.30957344e+01 6.91830971e+01 7.58577575e+01 8.31763771e+01\n",
      " 9.12010839e+01 1.00000000e+02]\n"
     ]
    }
   ],
   "source": [
    "print(fre_grid)"
   ]
  },
  {
   "cell_type": "code",
   "execution_count": 17,
   "id": "5364b870",
   "metadata": {},
   "outputs": [
    {
     "name": "stderr",
     "output_type": "stream",
     "text": [
      "/var/folders/xc/18p6rmkn3wv451bp5cpdk04m0000gq/T/ipykernel_10776/322432750.py:15: RuntimeWarning: overflow encountered in exp\n",
      "  spec=(15/np.pi**4.0)*nu_t**3/(exp(nu_t)-1)\n"
     ]
    }
   ],
   "source": [
    "nfre2=20\n",
    "result2=GenerateFre(nfre2,0.1,10,T)"
   ]
  },
  {
   "cell_type": "code",
   "execution_count": 18,
   "id": "692070c7",
   "metadata": {},
   "outputs": [],
   "source": [
    "fre_grid2=result2[0]\n",
    "kappa_a_fr2=result2[1]\n",
    "kappa_p_fr2=result2[2]"
   ]
  },
  {
   "cell_type": "code",
   "execution_count": 19,
   "id": "eb73da9e",
   "metadata": {},
   "outputs": [
    {
     "name": "stdout",
     "output_type": "stream",
     "text": [
      "[ 0.          0.1         0.12589254  0.15848932  0.19952623  0.25118864\n",
      "  0.31622777  0.39810717  0.50118723  0.63095734  0.79432823  1.\n",
      "  1.25892541  1.58489319  1.99526231  2.51188643  3.16227766  3.98107171\n",
      "  5.01187234  6.30957344  7.94328235 10.        ]\n",
      "[2.06006179e+01 9.33551915e+00 5.80526814e+00 3.59681019e+00\n",
      " 2.21840228e+00 1.36057790e+00 8.28712843e-01 5.00511322e-01\n",
      " 2.99208991e-01 1.76687248e-01 1.02836955e-01 5.88620159e-02\n",
      " 3.30661873e-02 1.82044266e-02 9.81918011e-03 5.19576449e-03\n",
      " 2.70587572e-03 1.39373216e-03 7.13984677e-04 3.65583563e-04\n",
      " 1.87738507e-04 8.14803009e-05]\n",
      "[3.81880647e+01 9.51168824e+00 5.91705696e+00 3.66781651e+00\n",
      " 2.26354926e+00 1.38930863e+00 8.47007378e-01 5.12160501e-01\n",
      " 3.06619089e-01 1.81388393e-01 1.05804481e-01 6.07196109e-02\n",
      " 3.42143153e-02 1.89014379e-02 1.02324405e-02 5.43380010e-03\n",
      " 2.83859528e-03 1.46532338e-03 7.51450331e-04 3.84686786e-04\n",
      " 1.97243833e-04 9.42990309e-05]\n"
     ]
    }
   ],
   "source": [
    "print(fre_grid2)\n",
    "print(kappa_a_fr2)\n",
    "print(kappa_p_fr2)"
   ]
  },
  {
   "cell_type": "code",
   "execution_count": 20,
   "id": "29c5703c",
   "metadata": {},
   "outputs": [],
   "source": [
    "plot_num2=np.arange(nfre2+2)"
   ]
  },
  {
   "cell_type": "code",
   "execution_count": 21,
   "id": "9104b54e",
   "metadata": {},
   "outputs": [
    {
     "data": {
      "image/png": "[encoded data removed]",
      "text/plain": [
       "<Figure size 432x288 with 1 Axes>"
      ]
     },
     "metadata": {
      "needs_background": "light"
     },
     "output_type": "display_data"
    }
   ],
   "source": [
    "plt.plot(plot_num2,kappa_a_fr2,color='red',linestyle='dashed',linewidth=20)\n",
    "plt.plot(plot_num2,kappa_p_fr2,color='black',linestyle='dashed')\n",
    "plt.yscale('log')"
   ]
  },
  {
   "cell_type": "code",
   "execution_count": 22,
   "id": "3910d578",
   "metadata": {},
   "outputs": [],
   "source": [
    "output2=np.vstack((fre_grid2, kappa_a_fr2, kappa_p_fr2))"
   ]
  },
  {
   "cell_type": "code",
   "execution_count": 23,
   "id": "51b63c01",
   "metadata": {},
   "outputs": [],
   "source": [
    "np.savetxt('opacities_fre4.txt',np.transpose(output2))"
   ]
  },
  {
   "cell_type": "code",
   "execution_count": null,
   "id": "ea8c28e5",
   "metadata": {},
   "outputs": [],
   "source": []
  }
 ],
 "metadata": {
  "kernelspec": {
   "display_name": "Python 3 (ipykernel)",
   "language": "python",
   "name": "python3"
  },
  "language_info": {
   "codemirror_mode": {
    "name": "ipython",
    "version": 3
   },
   "file_extension": ".py",
   "mimetype": "text/x-python",
   "name": "python",
   "nbconvert_exporter": "python",
   "pygments_lexer": "ipython3",
   "version": "3.11.5"
  }
 },
 "nbformat": 4,
 "nbformat_minor": 5
}
